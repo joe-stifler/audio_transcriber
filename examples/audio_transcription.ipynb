{
 "cells": [
  {
   "cell_type": "code",
   "execution_count": 2,
   "metadata": {},
   "outputs": [],
   "source": [
    "%load_ext autoreload\n",
    "%autoreload 2"
   ]
  },
  {
   "cell_type": "code",
   "execution_count": 3,
   "metadata": {},
   "outputs": [
    {
     "data": {
      "text/plain": [
       "'/home/joe/Documents/1-PROJECTS/ACSE-MSc-IRP/audio_transcriber/examples'"
      ]
     },
     "execution_count": 3,
     "metadata": {},
     "output_type": "execute_result"
    }
   ],
   "source": [
    "%pwd"
   ]
  },
  {
   "cell_type": "code",
   "execution_count": 4,
   "metadata": {},
   "outputs": [
    {
     "name": "stdout",
     "output_type": "stream",
     "text": [
      "/home/joe/Documents/1-PROJECTS/ACSE-MSc-IRP/audio_transcriber\n"
     ]
    },
    {
     "name": "stderr",
     "output_type": "stream",
     "text": [
      "/home/joe/miniconda3/envs/audio_transcriber/lib/python3.10/site-packages/IPython/core/magics/osm.py:417: UserWarning: This is now an optional IPython functionality, setting dhist requires you to install the `pickleshare` library.\n",
      "  self.shell.db['dhist'] = compress_dhist(dhist)[-100:]\n"
     ]
    }
   ],
   "source": [
    "import os\n",
    "\n",
    "# print this notebook file name\n",
    "if not os.path.exists(\".git\"):  # Assuming a Git repository\n",
    "    %cd ../\n",
    "else:\n",
    "    print(\"Already at the repository root.\")"
   ]
  },
  {
   "cell_type": "code",
   "execution_count": 5,
   "metadata": {},
   "outputs": [
    {
     "name": "stdout",
     "output_type": "stream",
     "text": [
      "Obtaining file:///home/joe/Documents/1-PROJECTS/ACSE-MSc-IRP/audio_transcriber\n",
      "  Preparing metadata (setup.py) ... \u001b[?25ldone\n",
      "\u001b[?25hRequirement already satisfied: openai-whisper in /home/joe/miniconda3/envs/audio_transcriber/lib/python3.10/site-packages (from audio_transcriber==0.1.0) (20231117)\n",
      "Requirement already satisfied: triton<3,>=2.0.0 in /home/joe/miniconda3/envs/audio_transcriber/lib/python3.10/site-packages (from openai-whisper->audio_transcriber==0.1.0) (2.2.0)\n",
      "Requirement already satisfied: numba in /home/joe/miniconda3/envs/audio_transcriber/lib/python3.10/site-packages (from openai-whisper->audio_transcriber==0.1.0) (0.59.1)\n",
      "Requirement already satisfied: numpy in /home/joe/miniconda3/envs/audio_transcriber/lib/python3.10/site-packages (from openai-whisper->audio_transcriber==0.1.0) (1.26.4)\n",
      "Requirement already satisfied: torch in /home/joe/miniconda3/envs/audio_transcriber/lib/python3.10/site-packages (from openai-whisper->audio_transcriber==0.1.0) (2.2.2)\n",
      "Requirement already satisfied: tqdm in /home/joe/miniconda3/envs/audio_transcriber/lib/python3.10/site-packages (from openai-whisper->audio_transcriber==0.1.0) (4.66.2)\n",
      "Requirement already satisfied: more-itertools in /home/joe/miniconda3/envs/audio_transcriber/lib/python3.10/site-packages (from openai-whisper->audio_transcriber==0.1.0) (10.2.0)\n",
      "Requirement already satisfied: tiktoken in /home/joe/miniconda3/envs/audio_transcriber/lib/python3.10/site-packages (from openai-whisper->audio_transcriber==0.1.0) (0.6.0)\n",
      "Requirement already satisfied: filelock in /home/joe/miniconda3/envs/audio_transcriber/lib/python3.10/site-packages (from triton<3,>=2.0.0->openai-whisper->audio_transcriber==0.1.0) (3.13.3)\n",
      "Requirement already satisfied: llvmlite<0.43,>=0.42.0dev0 in /home/joe/miniconda3/envs/audio_transcriber/lib/python3.10/site-packages (from numba->openai-whisper->audio_transcriber==0.1.0) (0.42.0)\n",
      "Requirement already satisfied: regex>=2022.1.18 in /home/joe/miniconda3/envs/audio_transcriber/lib/python3.10/site-packages (from tiktoken->openai-whisper->audio_transcriber==0.1.0) (2023.12.25)\n",
      "Requirement already satisfied: requests>=2.26.0 in /home/joe/miniconda3/envs/audio_transcriber/lib/python3.10/site-packages (from tiktoken->openai-whisper->audio_transcriber==0.1.0) (2.31.0)\n",
      "Requirement already satisfied: typing-extensions>=4.8.0 in /home/joe/miniconda3/envs/audio_transcriber/lib/python3.10/site-packages (from torch->openai-whisper->audio_transcriber==0.1.0) (4.10.0)\n",
      "Requirement already satisfied: sympy in /home/joe/miniconda3/envs/audio_transcriber/lib/python3.10/site-packages (from torch->openai-whisper->audio_transcriber==0.1.0) (1.12)\n",
      "Requirement already satisfied: networkx in /home/joe/miniconda3/envs/audio_transcriber/lib/python3.10/site-packages (from torch->openai-whisper->audio_transcriber==0.1.0) (3.2.1)\n",
      "Requirement already satisfied: jinja2 in /home/joe/miniconda3/envs/audio_transcriber/lib/python3.10/site-packages (from torch->openai-whisper->audio_transcriber==0.1.0) (3.1.3)\n",
      "Requirement already satisfied: fsspec in /home/joe/miniconda3/envs/audio_transcriber/lib/python3.10/site-packages (from torch->openai-whisper->audio_transcriber==0.1.0) (2024.3.1)\n",
      "Requirement already satisfied: nvidia-cuda-nvrtc-cu12==12.1.105 in /home/joe/miniconda3/envs/audio_transcriber/lib/python3.10/site-packages (from torch->openai-whisper->audio_transcriber==0.1.0) (12.1.105)\n",
      "Requirement already satisfied: nvidia-cuda-runtime-cu12==12.1.105 in /home/joe/miniconda3/envs/audio_transcriber/lib/python3.10/site-packages (from torch->openai-whisper->audio_transcriber==0.1.0) (12.1.105)\n",
      "Requirement already satisfied: nvidia-cuda-cupti-cu12==12.1.105 in /home/joe/miniconda3/envs/audio_transcriber/lib/python3.10/site-packages (from torch->openai-whisper->audio_transcriber==0.1.0) (12.1.105)\n",
      "Requirement already satisfied: nvidia-cudnn-cu12==8.9.2.26 in /home/joe/miniconda3/envs/audio_transcriber/lib/python3.10/site-packages (from torch->openai-whisper->audio_transcriber==0.1.0) (8.9.2.26)\n",
      "Requirement already satisfied: nvidia-cublas-cu12==12.1.3.1 in /home/joe/miniconda3/envs/audio_transcriber/lib/python3.10/site-packages (from torch->openai-whisper->audio_transcriber==0.1.0) (12.1.3.1)\n",
      "Requirement already satisfied: nvidia-cufft-cu12==11.0.2.54 in /home/joe/miniconda3/envs/audio_transcriber/lib/python3.10/site-packages (from torch->openai-whisper->audio_transcriber==0.1.0) (11.0.2.54)\n",
      "Requirement already satisfied: nvidia-curand-cu12==10.3.2.106 in /home/joe/miniconda3/envs/audio_transcriber/lib/python3.10/site-packages (from torch->openai-whisper->audio_transcriber==0.1.0) (10.3.2.106)\n",
      "Requirement already satisfied: nvidia-cusolver-cu12==11.4.5.107 in /home/joe/miniconda3/envs/audio_transcriber/lib/python3.10/site-packages (from torch->openai-whisper->audio_transcriber==0.1.0) (11.4.5.107)\n",
      "Requirement already satisfied: nvidia-cusparse-cu12==12.1.0.106 in /home/joe/miniconda3/envs/audio_transcriber/lib/python3.10/site-packages (from torch->openai-whisper->audio_transcriber==0.1.0) (12.1.0.106)\n",
      "Requirement already satisfied: nvidia-nccl-cu12==2.19.3 in /home/joe/miniconda3/envs/audio_transcriber/lib/python3.10/site-packages (from torch->openai-whisper->audio_transcriber==0.1.0) (2.19.3)\n",
      "Requirement already satisfied: nvidia-nvtx-cu12==12.1.105 in /home/joe/miniconda3/envs/audio_transcriber/lib/python3.10/site-packages (from torch->openai-whisper->audio_transcriber==0.1.0) (12.1.105)\n",
      "Requirement already satisfied: nvidia-nvjitlink-cu12 in /home/joe/miniconda3/envs/audio_transcriber/lib/python3.10/site-packages (from nvidia-cusolver-cu12==11.4.5.107->torch->openai-whisper->audio_transcriber==0.1.0) (12.4.99)\n",
      "Requirement already satisfied: charset-normalizer<4,>=2 in /home/joe/miniconda3/envs/audio_transcriber/lib/python3.10/site-packages (from requests>=2.26.0->tiktoken->openai-whisper->audio_transcriber==0.1.0) (3.3.2)\n",
      "Requirement already satisfied: idna<4,>=2.5 in /home/joe/miniconda3/envs/audio_transcriber/lib/python3.10/site-packages (from requests>=2.26.0->tiktoken->openai-whisper->audio_transcriber==0.1.0) (3.6)\n",
      "Requirement already satisfied: urllib3<3,>=1.21.1 in /home/joe/miniconda3/envs/audio_transcriber/lib/python3.10/site-packages (from requests>=2.26.0->tiktoken->openai-whisper->audio_transcriber==0.1.0) (2.2.1)\n",
      "Requirement already satisfied: certifi>=2017.4.17 in /home/joe/miniconda3/envs/audio_transcriber/lib/python3.10/site-packages (from requests>=2.26.0->tiktoken->openai-whisper->audio_transcriber==0.1.0) (2024.2.2)\n",
      "Requirement already satisfied: MarkupSafe>=2.0 in /home/joe/miniconda3/envs/audio_transcriber/lib/python3.10/site-packages (from jinja2->torch->openai-whisper->audio_transcriber==0.1.0) (2.1.5)\n",
      "Requirement already satisfied: mpmath>=0.19 in /home/joe/miniconda3/envs/audio_transcriber/lib/python3.10/site-packages (from sympy->torch->openai-whisper->audio_transcriber==0.1.0) (1.3.0)\n",
      "Installing collected packages: audio_transcriber\n",
      "  Attempting uninstall: audio_transcriber\n",
      "    Found existing installation: audio_transcriber 0.1.0\n",
      "    Uninstalling audio_transcriber-0.1.0:\n",
      "      Successfully uninstalled audio_transcriber-0.1.0\n",
      "  Running setup.py develop for audio_transcriber\n",
      "Successfully installed audio_transcriber-0.1.0\n"
     ]
    }
   ],
   "source": [
    "!pip install -e ."
   ]
  },
  {
   "cell_type": "code",
   "execution_count": 7,
   "metadata": {},
   "outputs": [],
   "source": [
    "from audio_transcriber import transcribe_audio"
   ]
  },
  {
   "cell_type": "code",
   "execution_count": 11,
   "metadata": {},
   "outputs": [
    {
     "name": "stdout",
     "output_type": "stream",
     "text": [
      "Loading Whisper model 'small'...\n",
      "Transcribing in 'en'... This may take some time depending on the length of the audio.\n"
     ]
    }
   ],
   "source": [
    "file_path = \"tests/samples/test.mp3\"\n",
    "result = transcribe_audio(file_path, model_size=\"small\", language=\"en\")"
   ]
  },
  {
   "cell_type": "code",
   "execution_count": 27,
   "metadata": {},
   "outputs": [],
   "source": [
    "result_str = \" \".join([segment[\"text\"] for segment in result[\"segments\"]])"
   ]
  },
  {
   "cell_type": "code",
   "execution_count": 28,
   "metadata": {},
   "outputs": [
    {
     "data": {
      "text/plain": [
       "' Well, this is important to say and says.  Nothing in life is as important as you think it is while you are thinking about it.'"
      ]
     },
     "execution_count": 28,
     "metadata": {},
     "output_type": "execute_result"
    }
   ],
   "source": [
    "result_str"
   ]
  },
  {
   "cell_type": "code",
   "execution_count": 29,
   "metadata": {},
   "outputs": [],
   "source": [
    "assert (\n",
    "    result_str\n",
    "    == \" Well, this is important to say and says.  Nothing in life is as important as you think it is while you are thinking about it.\"\n",
    ")"
   ]
  },
  {
   "cell_type": "code",
   "execution_count": null,
   "metadata": {},
   "outputs": [],
   "source": []
  }
 ],
 "metadata": {
  "kernelspec": {
   "display_name": "audio_transcriber",
   "language": "python",
   "name": "python3"
  },
  "language_info": {
   "codemirror_mode": {
    "name": "ipython",
    "version": 3
   },
   "file_extension": ".py",
   "mimetype": "text/x-python",
   "name": "python",
   "nbconvert_exporter": "python",
   "pygments_lexer": "ipython3",
   "version": "3.10.14"
  }
 },
 "nbformat": 4,
 "nbformat_minor": 2
}
